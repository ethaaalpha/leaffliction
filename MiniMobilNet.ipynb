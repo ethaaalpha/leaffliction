{
 "cells": [
  {
   "cell_type": "code",
   "execution_count": null,
   "id": "7f388455",
   "metadata": {},
   "outputs": [],
   "source": [
    "\n",
    "import torch\n",
    "import torch.nn as nn\n",
    "from src.model.MiniMobileNet import MiniMobileNet\n",
    "import matplotlib.pyplot as plt"
   ]
  },
  {
   "cell_type": "code",
   "execution_count": 2,
   "id": "62b93d6d",
   "metadata": {},
   "outputs": [],
   "source": [
    "model_path = 'best_model.pt'\n",
    "device = torch.device('cuda' if torch.cuda.is_available() else 'cpu')"
   ]
  },
  {
   "cell_type": "code",
   "execution_count": 3,
   "id": "57fc76a2",
   "metadata": {},
   "outputs": [
    {
     "name": "stdout",
     "output_type": "stream",
     "text": [
      "-- Model loaded successfully --\n"
     ]
    }
   ],
   "source": [
    "model = MiniMobileNet(csv_dim=1503, n_classes=8)\n",
    "model.load_state_dict(torch.load(model_path, map_location=device))\n",
    "model.to(device)\n",
    "print(\"-- Model loaded successfully --\")"
   ]
  },
  {
   "cell_type": "code",
   "execution_count": 4,
   "id": "4bb4093a",
   "metadata": {},
   "outputs": [],
   "source": [
    "imgs = [torch.randn(1, 3, 224, 224) for _ in range(6)]\n",
    "csv = torch.randn(1, 1503)\n",
    "imgs_gpu = [img.to(device) for img in imgs]\n",
    "csv_gpu = csv.to(device)\n"
   ]
  },
  {
   "cell_type": "code",
   "execution_count": 5,
   "id": "69b2d48b",
   "metadata": {},
   "outputs": [],
   "source": [
    "torch.onnx.export(model, (imgs_gpu, csv_gpu), \"minimobilenet.onnx\", opset_version=12)"
   ]
  },
  {
   "cell_type": "code",
   "execution_count": null,
   "id": "3f10ac34",
   "metadata": {},
   "outputs": [],
   "source": [
    "!netron minimobilenet.onnx"
   ]
  },
  {
   "cell_type": "markdown",
   "id": "a054006c",
   "metadata": {},
   "source": [
    "![model overview](images/minimobilenet.png)"
   ]
  },
  {
   "cell_type": "markdown",
   "id": "f0d8a4b2",
   "metadata": {},
   "source": [
    "🔹 Why `nn.BatchNorm2d(n)`\n"
   ]
  },
  {
   "cell_type": "code",
   "execution_count": 6,
   "id": "34b2ee20",
   "metadata": {},
   "outputs": [
    {
     "data": {
      "image/png": "[encoded data removed]",
      "text/plain": [
       "<Figure size 1200x400 with 2 Axes>"
      ]
     },
     "metadata": {},
     "output_type": "display_data"
    }
   ],
   "source": [
    "x = torch.randn(8, 16, 32, 32) * 10 + 50 \n",
    "\n",
    "x_no_bn = x.clone()\n",
    "\n",
    "bn = nn.BatchNorm2d(16)\n",
    "x_bn = bn(x.clone())\n",
    "\n",
    "fig, axes = plt.subplots(1, 2, figsize=(12, 4))\n",
    "\n",
    "axes[0].hist(x_no_bn[:, 0].flatten().numpy(), bins=50, color='red', alpha=0.7)\n",
    "axes[0].set_xlabel(\"x\")\n",
    "axes[0].set_ylabel(\"Count\")\n",
    "\n",
    "axes[1].hist(x_bn[:, 0].flatten().detach().numpy(), bins=50, color='green', alpha=0.7)\n",
    "axes[1].set_xlabel(\"x\")\n",
    "axes[1].set_ylabel(\"count\")\n",
    "\n",
    "plt.tight_layout()\n",
    "plt.show()"
   ]
  },
  {
   "cell_type": "markdown",
   "id": "01b39ae9",
   "metadata": {},
   "source": [
    "🧠 When it comes right after the last convolutional layer, it helps to **normalize the feature maps**, making the network more stable and easier to train.\n",
    "\n",
    "📉 This leads to:\n",
    "- Faster convergence during training\n",
    "- Better regularization\n",
    "- Reduced sensitivity to weight initialization"
   ]
  },
  {
   "cell_type": "markdown",
   "id": "d0c48021",
   "metadata": {},
   "source": [
    "➡️ Why `DepthwiseSeparable`: `in × out × 3 × 3` vs `in × 3 × 3 + in × out × 1 × 1`\n",
    "\n",
    "🧠 Standard Computation:\n",
    "![🧠 Standard Computation](images/convolution-animation-3x3-kernel.gif)\n",
    "\n",
    "⚡ Depthwise Separable Computation:\n",
    "![⚡ Depthwise Separable Computation](images/depthwise-separable-convolution-animation-3x3-kernel.gif)\n",
    "\n"
   ]
  },
  {
   "cell_type": "markdown",
   "id": "8af1e96e",
   "metadata": {},
   "source": [
    "➡️ Why no activation function like `softmax` at the end of the classifier\n",
    "\n",
    "🧾 Because we use `nn.CrossEntropyLoss()`, which expects **raw logits**:\n",
    "- It internally applies `log_softmax` + `NLLLoss`."
   ]
  }
 ],
 "metadata": {
  "kernelspec": {
   "display_name": ".venv",
   "language": "python",
   "name": "python3"
  },
  "language_info": {
   "codemirror_mode": {
    "name": "ipython",
    "version": 3
   },
   "file_extension": ".py",
   "mimetype": "text/x-python",
   "name": "python",
   "nbconvert_exporter": "python",
   "pygments_lexer": "ipython3",
   "version": "3.11.12"
  }
 },
 "nbformat": 4,
 "nbformat_minor": 5
}
